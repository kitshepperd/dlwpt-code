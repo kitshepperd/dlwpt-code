{
 "cells": [
  {
   "cell_type": "markdown",
   "id": "d31ba815-0d83-4926-a755-96d0901902e5",
   "metadata": {},
   "source": [
    "# Exercises"
   ]
  },
  {
   "cell_type": "markdown",
   "id": "22e6e4e7-13c1-4bc2-9a7d-806d5dde7837",
   "metadata": {},
   "source": [
    "1. Implement a program that iterates through a LunaDataset instance and time how long it takes to do so. In the interest of time it may make sense to have an option to limit the iterations to the first N=1000 samples.\n",
    "\n",
    "a) How long does it take to run the first time\n",
    "\n",
    "b) How long does it take to run the second time\n",
    "\n",
    "c) What does clearing the cache do to the run time\n",
    "\n",
    "d) What does using the last N=1000 samples do to the first/second runtime?\n",
    "\n"
   ]
  },
  {
   "cell_type": "markdown",
   "id": "5143baff-159c-4dc1-93f4-6888fe84e574",
   "metadata": {},
   "source": [
    "## 1.a, 1.b, 1.c"
   ]
  },
  {
   "cell_type": "code",
   "execution_count": 4,
   "id": "84fd69b6-0699-48bd-b80d-2f4dba1fb295",
   "metadata": {},
   "outputs": [],
   "source": [
    "from p2ch10.dsets import LunaDataset\n",
    "import functools"
   ]
  },
  {
   "cell_type": "code",
   "execution_count": 5,
   "id": "dc0d81a9-c3aa-4f4a-9d61-df7017559eba",
   "metadata": {},
   "outputs": [
    {
     "name": "stderr",
     "output_type": "stream",
     "text": [
      "2022-12-29 17:42:10,753 INFO     pid:59277 p2ch10.dsets:170:__init__ <p2ch10.dsets.LunaDataset object at 0x7f031eee7a00>: 384840 training samples\n"
     ]
    },
    {
     "data": {
      "text/plain": [
       "<p2ch10.dsets.LunaDataset at 0x7f031eee7a00>"
      ]
     },
     "execution_count": 5,
     "metadata": {},
     "output_type": "execute_result"
    }
   ],
   "source": [
    "entire_dataset = LunaDataset()\n",
    "entire_dataset"
   ]
  },
  {
   "cell_type": "code",
   "execution_count": 6,
   "id": "a6a1c445-e526-4114-b4f7-afe016580243",
   "metadata": {},
   "outputs": [
    {
     "name": "stdout",
     "output_type": "stream",
     "text": [
      "torch.Size([1, 32, 48, 48])\n",
      "torch.Size([1, 32, 48, 48])\n",
      "torch.Size([1, 32, 48, 48])\n",
      "torch.Size([1, 32, 48, 48])\n",
      "torch.Size([1, 32, 48, 48])\n",
      "torch.Size([1, 32, 48, 48])\n",
      "torch.Size([1, 32, 48, 48])\n"
     ]
    },
    {
     "name": "stderr",
     "output_type": "stream",
     "text": [
      "MetaImage: M_ReadElementsData: data not read completely\n",
      "   ideal = 282066944 : actual = 189792256\n"
     ]
    },
    {
     "name": "stdout",
     "output_type": "stream",
     "text": [
      "torch.Size([1, 32, 48, 48])\n",
      "torch.Size([1, 32, 48, 48])\n",
      "torch.Size([1, 32, 48, 48])\n",
      "torch.Size([1, 32, 48, 48])\n",
      "CPU times: user 2min 4s, sys: 6min 7s, total: 8min 11s\n",
      "Wall time: 5min 43s\n"
     ]
    }
   ],
   "source": [
    "%%time\n",
    "for index, (nodule_tens, nodule_label, nodule_series_uid, nodule_center) in enumerate(entire_dataset):\n",
    "    if index % 100 == 0:\n",
    "        print(nodule_tens.shape)\n",
    "    if index == 1000:\n",
    "        break"
   ]
  },
  {
   "cell_type": "code",
   "execution_count": 7,
   "id": "42a12875-6229-4f37-93cf-bf77d68d1445",
   "metadata": {},
   "outputs": [
    {
     "name": "stdout",
     "output_type": "stream",
     "text": [
      "torch.Size([1, 32, 48, 48])\n",
      "torch.Size([1, 32, 48, 48])\n",
      "torch.Size([1, 32, 48, 48])\n",
      "torch.Size([1, 32, 48, 48])\n",
      "torch.Size([1, 32, 48, 48])\n",
      "torch.Size([1, 32, 48, 48])\n",
      "torch.Size([1, 32, 48, 48])\n",
      "torch.Size([1, 32, 48, 48])\n",
      "torch.Size([1, 32, 48, 48])\n",
      "torch.Size([1, 32, 48, 48])\n",
      "torch.Size([1, 32, 48, 48])\n",
      "CPU times: user 283 ms, sys: 109 ms, total: 393 ms\n",
      "Wall time: 688 ms\n"
     ]
    }
   ],
   "source": [
    "%%time\n",
    "for index, (nodule_tens, nodule_label, nodule_series_uid, nodule_center) in enumerate(entire_dataset):\n",
    "    if index % 100 == 0:\n",
    "        print(nodule_tens.shape)\n",
    "    if index == 1000:\n",
    "        break"
   ]
  },
  {
   "cell_type": "markdown",
   "id": "66eeeccd-cbb5-4919-95d8-2e91e6293217",
   "metadata": {},
   "source": [
    "So clearly the cache is being visited here. We should dive in to how lru_cache works"
   ]
  },
  {
   "cell_type": "markdown",
   "id": "4401ed2d-a9a8-4508-b15e-85a9dc6f11e1",
   "metadata": {},
   "source": [
    "## Aside: caching"
   ]
  },
  {
   "cell_type": "code",
   "execution_count": 8,
   "id": "59673c11-905a-495a-84f0-8c29333db6f6",
   "metadata": {},
   "outputs": [],
   "source": [
    "@functools.lru_cache\n",
    "def count_vowels(sentence):\n",
    "    return sum(sentence.count(vowel) for vowel in 'AEIOUaeiou')"
   ]
  },
  {
   "cell_type": "code",
   "execution_count": 9,
   "id": "d4948094-e3a2-4dc0-8dc7-bc0abd480941",
   "metadata": {},
   "outputs": [
    {
     "data": {
      "text/plain": [
       "CacheInfo(hits=0, misses=0, maxsize=128, currsize=0)"
      ]
     },
     "execution_count": 9,
     "metadata": {},
     "output_type": "execute_result"
    }
   ],
   "source": [
    "count_vowels.cache_info()"
   ]
  },
  {
   "cell_type": "code",
   "execution_count": 10,
   "id": "ee9e1347-84f0-451f-9bc0-1266ad91b28b",
   "metadata": {},
   "outputs": [],
   "source": [
    "test_sentence = \"Hello World\""
   ]
  },
  {
   "cell_type": "code",
   "execution_count": 11,
   "id": "2c83dfbb-909e-4024-a7b0-afb80f14730f",
   "metadata": {},
   "outputs": [
    {
     "data": {
      "text/plain": [
       "3"
      ]
     },
     "execution_count": 11,
     "metadata": {},
     "output_type": "execute_result"
    }
   ],
   "source": [
    "count_vowels(test_sentence)"
   ]
  },
  {
   "cell_type": "code",
   "execution_count": 12,
   "id": "c8b49f2e-899d-4a38-8bfb-5f14bb50dd36",
   "metadata": {},
   "outputs": [
    {
     "data": {
      "text/plain": [
       "CacheInfo(hits=0, misses=1, maxsize=128, currsize=1)"
      ]
     },
     "execution_count": 12,
     "metadata": {},
     "output_type": "execute_result"
    }
   ],
   "source": [
    "count_vowels.cache_info()"
   ]
  },
  {
   "cell_type": "code",
   "execution_count": 13,
   "id": "9dfd92fe-0a94-41fa-af8c-173388299dca",
   "metadata": {},
   "outputs": [
    {
     "data": {
      "text/plain": [
       "3"
      ]
     },
     "execution_count": 13,
     "metadata": {},
     "output_type": "execute_result"
    }
   ],
   "source": [
    "count_vowels(test_sentence)"
   ]
  },
  {
   "cell_type": "code",
   "execution_count": 14,
   "id": "a644687d-0a95-4b21-9d1f-4db5186be76f",
   "metadata": {},
   "outputs": [
    {
     "data": {
      "text/plain": [
       "CacheInfo(hits=1, misses=1, maxsize=128, currsize=1)"
      ]
     },
     "execution_count": 14,
     "metadata": {},
     "output_type": "execute_result"
    }
   ],
   "source": [
    "count_vowels.cache_info()"
   ]
  },
  {
   "cell_type": "markdown",
   "id": "20cc9d07-21e3-48bd-a0b3-d46d215dd6ad",
   "metadata": {},
   "source": [
    "On further inspection, the project uses a combination of this functools caching and `diskcache`. I suspect the cache created by `functools.lru_cache` is passed to `diskcache.FanoutCache`, which stores the cache in the local filesystem. I guess it must set up some SQLite server which means it isn't simply retrieving it from disc space each time. Although interesting this isn't really the point of what we're doing here. Perhaps one for a later date"
   ]
  },
  {
   "cell_type": "markdown",
   "id": "42b91565-eac3-4f5f-bcf5-8b0f2cd93862",
   "metadata": {},
   "source": [
    "## 1.d"
   ]
  },
  {
   "cell_type": "markdown",
   "id": "cd0aa381-efd4-4343-b51f-103f8e0a0ab2",
   "metadata": {},
   "source": [
    "The difference here will be that the first 1000 nodules are different from the second 1000 nodules. This is"
   ]
  }
 ],
 "metadata": {
  "kernelspec": {
   "display_name": "Python 3 (ipykernel)",
   "language": "python",
   "name": "python3"
  },
  "language_info": {
   "codemirror_mode": {
    "name": "ipython",
    "version": 3
   },
   "file_extension": ".py",
   "mimetype": "text/x-python",
   "name": "python",
   "nbconvert_exporter": "python",
   "pygments_lexer": "ipython3",
   "version": "3.8.10"
  }
 },
 "nbformat": 4,
 "nbformat_minor": 5
}
