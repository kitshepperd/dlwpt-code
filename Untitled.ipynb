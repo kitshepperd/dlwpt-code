{
 "cells": [
  {
   "cell_type": "code",
   "execution_count": 5,
   "id": "fd3cef75-4082-45da-bf54-47d6fe0de7c7",
   "metadata": {},
   "outputs": [],
   "source": [
    "from p2ch11 import training"
   ]
  },
  {
   "cell_type": "code",
   "execution_count": 8,
   "id": "b32d8f4b-abdc-453b-bb0a-732debb29f21",
   "metadata": {},
   "outputs": [
    {
     "name": "stdout",
     "output_type": "stream",
     "text": [
      "2023-03-14 08:39:03,741 INFO     pid:12650 __main__:138:main Starting LunaTrainingApp, Namespace(batch_size=32, comment='dwlpt', epochs=1, num_workers=6, tb_prefix='p2ch11')\n",
      "2023-03-14 08:39:06,886 INFO     pid:12650 p2ch11.dsets:182:__init__ <p2ch11.dsets.LunaDataset object at 0x7fceb6c4a040>: 346356 training samples\n",
      "2023-03-14 08:39:06,912 INFO     pid:12650 p2ch11.dsets:182:__init__ <p2ch11.dsets.LunaDataset object at 0x7fce21b94280>: 38484 validation samples\n",
      "2023-03-14 08:39:06,912 INFO     pid:12650 __main__:145:main Epoch 1 of 1, 10824/1203 batches of size 32*1\n",
      "2023-03-14 08:39:06,917 WARNING  pid:12650 util.util:219:enumerateWithEstimate E1 Training ----/10824, starting\n",
      "^C\n"
     ]
    },
    {
     "name": "stderr",
     "output_type": "stream",
     "text": [
      "\n",
      "KeyboardInterrupt\n",
      "\n"
     ]
    }
   ],
   "source": [
    "!python -m p2ch11.training"
   ]
  },
  {
   "cell_type": "code",
   "execution_count": null,
   "id": "4dce092c-4c3d-4a24-bfdb-d4a94dc798cb",
   "metadata": {},
   "outputs": [],
   "source": []
  }
 ],
 "metadata": {
  "kernelspec": {
   "display_name": "Python 3 (ipykernel)",
   "language": "python",
   "name": "python3"
  },
  "language_info": {
   "codemirror_mode": {
    "name": "ipython",
    "version": 3
   },
   "file_extension": ".py",
   "mimetype": "text/x-python",
   "name": "python",
   "nbconvert_exporter": "python",
   "pygments_lexer": "ipython3",
   "version": "3.8.10"
  }
 },
 "nbformat": 4,
 "nbformat_minor": 5
}
